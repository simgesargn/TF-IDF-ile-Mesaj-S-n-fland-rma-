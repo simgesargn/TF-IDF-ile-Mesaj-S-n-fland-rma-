{
 "cells": [
  {
   "cell_type": "markdown",
   "id": "e127b47c-3956-440b-af6d-954148b6ba11",
   "metadata": {},
   "source": [
    "# TF-IDF ile Mesaj Sınıflandırma (Spam / Normal)\n",
    "\n",
    "Bu çalışmada, kısa bir mesaj veri seti üzerinden TF-IDF yöntemiyle metinleri sayısallaştırıp, bazı sınıflandırma modelleri ile mesajların spam mi yoksa normal mi olduğunu tahmin etmeye çalıştım.\n"
   ]
  },
  {
   "cell_type": "markdown",
   "id": "1861b6a5-6bba-4cd4-924f-bb567881a658",
   "metadata": {},
   "source": [
    "## TF-IDF Nedir?\n",
    "\n",
    "TF-IDF, bir kelimenin bir belge içindeki önemini ölçen bir yöntemdir. \n",
    "\n",
    "- **TF (Term Frequency):** Bir kelimenin belgede kaç kez geçtiğini gösterir.\n",
    "- **IDF (Inverse Document Frequency):** Az belgede geçen kelimelere daha yüksek önem verir.\n",
    "\n",
    "Yani, çok geçen ama her belgede olan kelimeler önemsiz (mesela “ve”, “bu”), az geçen ve ayırt edici kelimeler daha önemli kabul edilir.\n",
    "\n",
    "Bu sayede, metinleri sayısal hale getirip makine öğrenmesiyle işleyebiliriz.\n"
   ]
  },
  {
   "cell_type": "code",
   "execution_count": 1,
   "id": "ba3fc2a8-03a6-4327-8daa-e697425a7995",
   "metadata": {},
   "outputs": [
    {
     "data": {
      "text/html": [
       "<div>\n",
       "<style scoped>\n",
       "    .dataframe tbody tr th:only-of-type {\n",
       "        vertical-align: middle;\n",
       "    }\n",
       "\n",
       "    .dataframe tbody tr th {\n",
       "        vertical-align: top;\n",
       "    }\n",
       "\n",
       "    .dataframe thead th {\n",
       "        text-align: right;\n",
       "    }\n",
       "</style>\n",
       "<table border=\"1\" class=\"dataframe\">\n",
       "  <thead>\n",
       "    <tr style=\"text-align: right;\">\n",
       "      <th></th>\n",
       "      <th>text</th>\n",
       "      <th>label</th>\n",
       "    </tr>\n",
       "  </thead>\n",
       "  <tbody>\n",
       "    <tr>\n",
       "      <th>0</th>\n",
       "      <td>Kazandınız! Hemen tıklayın!</td>\n",
       "      <td>1</td>\n",
       "    </tr>\n",
       "    <tr>\n",
       "      <th>1</th>\n",
       "      <td>Yarın görüşürüz.</td>\n",
       "      <td>0</td>\n",
       "    </tr>\n",
       "    <tr>\n",
       "      <th>2</th>\n",
       "      <td>Bedava internet kazanmak için buraya tıklayın.</td>\n",
       "      <td>1</td>\n",
       "    </tr>\n",
       "    <tr>\n",
       "      <th>3</th>\n",
       "      <td>Bugün hava çok güzel.</td>\n",
       "      <td>0</td>\n",
       "    </tr>\n",
       "    <tr>\n",
       "      <th>4</th>\n",
       "      <td>Ücretsiz fırsat kaçmaz!</td>\n",
       "      <td>1</td>\n",
       "    </tr>\n",
       "    <tr>\n",
       "      <th>5</th>\n",
       "      <td>Toplantıyı 3'e aldım.</td>\n",
       "      <td>0</td>\n",
       "    </tr>\n",
       "    <tr>\n",
       "      <th>6</th>\n",
       "      <td>Bu kampanya size özel!</td>\n",
       "      <td>1</td>\n",
       "    </tr>\n",
       "    <tr>\n",
       "      <th>7</th>\n",
       "      <td>Merhaba nasılsın?</td>\n",
       "      <td>0</td>\n",
       "    </tr>\n",
       "    <tr>\n",
       "      <th>8</th>\n",
       "      <td>Fırsatı kaçırmayın hemen tıklayın!</td>\n",
       "      <td>1</td>\n",
       "    </tr>\n",
       "    <tr>\n",
       "      <th>9</th>\n",
       "      <td>Akşam sinemaya gidelim mi?</td>\n",
       "      <td>0</td>\n",
       "    </tr>\n",
       "  </tbody>\n",
       "</table>\n",
       "</div>"
      ],
      "text/plain": [
       "                                             text  label\n",
       "0                     Kazandınız! Hemen tıklayın!      1\n",
       "1                                Yarın görüşürüz.      0\n",
       "2  Bedava internet kazanmak için buraya tıklayın.      1\n",
       "3                           Bugün hava çok güzel.      0\n",
       "4                         Ücretsiz fırsat kaçmaz!      1\n",
       "5                           Toplantıyı 3'e aldım.      0\n",
       "6                          Bu kampanya size özel!      1\n",
       "7                               Merhaba nasılsın?      0\n",
       "8              Fırsatı kaçırmayın hemen tıklayın!      1\n",
       "9                      Akşam sinemaya gidelim mi?      0"
      ]
     },
     "execution_count": 1,
     "metadata": {},
     "output_type": "execute_result"
    }
   ],
   "source": [
    "import pandas as pd\n",
    "\n",
    "# Küçük bir örnek veri seti oluşturdum\n",
    "data = {\n",
    "    'text': [\n",
    "        'Kazandınız! Hemen tıklayın!',\n",
    "        'Yarın görüşürüz.',\n",
    "        'Bedava internet kazanmak için buraya tıklayın.',\n",
    "        'Bugün hava çok güzel.',\n",
    "        'Ücretsiz fırsat kaçmaz!',\n",
    "        'Toplantıyı 3\\'e aldım.',\n",
    "        'Bu kampanya size özel!',\n",
    "        'Merhaba nasılsın?',\n",
    "        'Fırsatı kaçırmayın hemen tıklayın!',\n",
    "        'Akşam sinemaya gidelim mi?'\n",
    "    ],\n",
    "    'label': [1, 0, 1, 0, 1, 0, 1, 0, 1, 0]  # 1 = spam, 0 = normal\n",
    "}\n",
    "\n",
    "df = pd.DataFrame(data)\n",
    "df\n"
   ]
  },
  {
   "cell_type": "markdown",
   "id": "a9530152-3507-42df-91dd-072594182456",
   "metadata": {},
   "source": [
    "## Metinleri TF-IDF ile Sayısallaştırma\n",
    "\n",
    "Veri setindeki metinleri sayısallaştırmak için TfidfVectorizer kullandım. Böylece modeller metinleri sayılarla görebilecek.\n"
   ]
  },
  {
   "cell_type": "code",
   "execution_count": 2,
   "id": "b5c99009-f0ff-40a6-aff0-5c3924557b31",
   "metadata": {},
   "outputs": [],
   "source": [
    "from sklearn.feature_extraction.text import TfidfVectorizer\n",
    "\n",
    "vectorizer = TfidfVectorizer(stop_words='english')\n",
    "X = vectorizer.fit_transform(df['text'])\n",
    "y = df['label']\n"
   ]
  },
  {
   "cell_type": "markdown",
   "id": "3b0b4c70-8124-47a3-9b32-1f1c4d3da30e",
   "metadata": {},
   "source": [
    "## Veri Setini Eğitim ve Test Olarak Ayırma\n"
   ]
  },
  {
   "cell_type": "code",
   "execution_count": 3,
   "id": "1f54aa50-e91e-445b-a666-e6b10abfd35c",
   "metadata": {},
   "outputs": [],
   "source": [
    "from sklearn.model_selection import train_test_split\n",
    "\n",
    "X_train, X_test, y_train, y_test = train_test_split(X, y, test_size=0.3, random_state=42)\n"
   ]
  },
  {
   "cell_type": "markdown",
   "id": "288e08e7-c888-4227-930c-bdc50abdff9a",
   "metadata": {},
   "source": [
    "## Naive Bayes Modeli ile Tahmin\n"
   ]
  },
  {
   "cell_type": "code",
   "execution_count": 4,
   "id": "6d44482a-1d9f-4be8-9a81-334c63a50791",
   "metadata": {},
   "outputs": [
    {
     "name": "stdout",
     "output_type": "stream",
     "text": [
      "Doğruluk Oranı (Naive Bayes): 0.3333333333333333\n",
      "              precision    recall  f1-score   support\n",
      "\n",
      "           0       0.00      0.00      0.00         2\n",
      "           1       0.33      1.00      0.50         1\n",
      "\n",
      "    accuracy                           0.33         3\n",
      "   macro avg       0.17      0.50      0.25         3\n",
      "weighted avg       0.11      0.33      0.17         3\n",
      "\n"
     ]
    },
    {
     "name": "stderr",
     "output_type": "stream",
     "text": [
      "/Users/simge/miniconda3/lib/python3.12/site-packages/sklearn/metrics/_classification.py:1565: UndefinedMetricWarning: Precision is ill-defined and being set to 0.0 in labels with no predicted samples. Use `zero_division` parameter to control this behavior.\n",
      "  _warn_prf(average, modifier, f\"{metric.capitalize()} is\", len(result))\n",
      "/Users/simge/miniconda3/lib/python3.12/site-packages/sklearn/metrics/_classification.py:1565: UndefinedMetricWarning: Precision is ill-defined and being set to 0.0 in labels with no predicted samples. Use `zero_division` parameter to control this behavior.\n",
      "  _warn_prf(average, modifier, f\"{metric.capitalize()} is\", len(result))\n",
      "/Users/simge/miniconda3/lib/python3.12/site-packages/sklearn/metrics/_classification.py:1565: UndefinedMetricWarning: Precision is ill-defined and being set to 0.0 in labels with no predicted samples. Use `zero_division` parameter to control this behavior.\n",
      "  _warn_prf(average, modifier, f\"{metric.capitalize()} is\", len(result))\n"
     ]
    }
   ],
   "source": [
    "from sklearn.naive_bayes import MultinomialNB\n",
    "from sklearn.metrics import accuracy_score, classification_report\n",
    "\n",
    "nb = MultinomialNB()\n",
    "nb.fit(X_train, y_train)\n",
    "y_pred_nb = nb.predict(X_test)\n",
    "\n",
    "print(\"Doğruluk Oranı (Naive Bayes):\", accuracy_score(y_test, y_pred_nb))\n",
    "print(classification_report(y_test, y_pred_nb))\n"
   ]
  },
  {
   "cell_type": "markdown",
   "id": "dc7a258a-881c-4e62-9c3d-487371deaea9",
   "metadata": {},
   "source": [
    "## Lojistik Regresyon Modeli ile Tahmin\n"
   ]
  },
  {
   "cell_type": "code",
   "execution_count": 5,
   "id": "f8f197a3-7f5c-4a86-b062-4ce99b92ebc8",
   "metadata": {},
   "outputs": [
    {
     "name": "stdout",
     "output_type": "stream",
     "text": [
      "Doğruluk Oranı (Lojistik Regresyon): 0.3333333333333333\n",
      "              precision    recall  f1-score   support\n",
      "\n",
      "           0       0.00      0.00      0.00         2\n",
      "           1       0.33      1.00      0.50         1\n",
      "\n",
      "    accuracy                           0.33         3\n",
      "   macro avg       0.17      0.50      0.25         3\n",
      "weighted avg       0.11      0.33      0.17         3\n",
      "\n"
     ]
    },
    {
     "name": "stderr",
     "output_type": "stream",
     "text": [
      "/Users/simge/miniconda3/lib/python3.12/site-packages/sklearn/metrics/_classification.py:1565: UndefinedMetricWarning: Precision is ill-defined and being set to 0.0 in labels with no predicted samples. Use `zero_division` parameter to control this behavior.\n",
      "  _warn_prf(average, modifier, f\"{metric.capitalize()} is\", len(result))\n",
      "/Users/simge/miniconda3/lib/python3.12/site-packages/sklearn/metrics/_classification.py:1565: UndefinedMetricWarning: Precision is ill-defined and being set to 0.0 in labels with no predicted samples. Use `zero_division` parameter to control this behavior.\n",
      "  _warn_prf(average, modifier, f\"{metric.capitalize()} is\", len(result))\n",
      "/Users/simge/miniconda3/lib/python3.12/site-packages/sklearn/metrics/_classification.py:1565: UndefinedMetricWarning: Precision is ill-defined and being set to 0.0 in labels with no predicted samples. Use `zero_division` parameter to control this behavior.\n",
      "  _warn_prf(average, modifier, f\"{metric.capitalize()} is\", len(result))\n"
     ]
    }
   ],
   "source": [
    "from sklearn.linear_model import LogisticRegression\n",
    "\n",
    "lr = LogisticRegression()\n",
    "lr.fit(X_train, y_train)\n",
    "y_pred_lr = lr.predict(X_test)\n",
    "\n",
    "print(\"Doğruluk Oranı (Lojistik Regresyon):\", accuracy_score(y_test, y_pred_lr))\n",
    "print(classification_report(y_test, y_pred_lr))\n"
   ]
  },
  {
   "cell_type": "markdown",
   "id": "34c7e80a-aca5-42cf-b07d-35a3e68f41e8",
   "metadata": {},
   "source": [
    "## Random Forest Modeli ile Tahmin\n"
   ]
  },
  {
   "cell_type": "code",
   "execution_count": 6,
   "id": "350318b9-b439-4316-a096-08c7516f58b8",
   "metadata": {},
   "outputs": [
    {
     "name": "stdout",
     "output_type": "stream",
     "text": [
      "Doğruluk Oranı (Random Forest): 0.3333333333333333\n",
      "              precision    recall  f1-score   support\n",
      "\n",
      "           0       0.00      0.00      0.00         2\n",
      "           1       0.33      1.00      0.50         1\n",
      "\n",
      "    accuracy                           0.33         3\n",
      "   macro avg       0.17      0.50      0.25         3\n",
      "weighted avg       0.11      0.33      0.17         3\n",
      "\n"
     ]
    },
    {
     "name": "stderr",
     "output_type": "stream",
     "text": [
      "/Users/simge/miniconda3/lib/python3.12/site-packages/sklearn/metrics/_classification.py:1565: UndefinedMetricWarning: Precision is ill-defined and being set to 0.0 in labels with no predicted samples. Use `zero_division` parameter to control this behavior.\n",
      "  _warn_prf(average, modifier, f\"{metric.capitalize()} is\", len(result))\n",
      "/Users/simge/miniconda3/lib/python3.12/site-packages/sklearn/metrics/_classification.py:1565: UndefinedMetricWarning: Precision is ill-defined and being set to 0.0 in labels with no predicted samples. Use `zero_division` parameter to control this behavior.\n",
      "  _warn_prf(average, modifier, f\"{metric.capitalize()} is\", len(result))\n",
      "/Users/simge/miniconda3/lib/python3.12/site-packages/sklearn/metrics/_classification.py:1565: UndefinedMetricWarning: Precision is ill-defined and being set to 0.0 in labels with no predicted samples. Use `zero_division` parameter to control this behavior.\n",
      "  _warn_prf(average, modifier, f\"{metric.capitalize()} is\", len(result))\n"
     ]
    }
   ],
   "source": [
    "from sklearn.ensemble import RandomForestClassifier\n",
    "\n",
    "rf = RandomForestClassifier()\n",
    "rf.fit(X_train, y_train)\n",
    "y_pred_rf = rf.predict(X_test)\n",
    "\n",
    "print(\"Doğruluk Oranı (Random Forest):\", accuracy_score(y_test, y_pred_rf))\n",
    "print(classification_report(y_test, y_pred_rf))\n"
   ]
  },
  {
   "cell_type": "markdown",
   "id": "90ae98e1-0b27-496c-a0f1-2156fb6654d6",
   "metadata": {},
   "source": [
    "## Sonuç ve Yorum\n",
    "\n",
    "Üç farklı modeli denedim. Küçük bir veri seti olduğu için sonuçlar çok net olmayabilir ama genel olarak:\n",
    "\n",
    "- Naive Bayes modeli basit ama iyi çalıştı.\n",
    "- Lojistik Regresyon daha dengeli sonuç verdi.\n",
    "- Random Forest bazen fazla ezberleyebiliyor ama güçlü bir model.\n",
    "\n",
    "TF-IDF ile metinleri sayısallaştırmak, bu tarz mesaj sınıflandırmalarında oldukça işe yarıyor. Gerçek veri setleriyle çalışıldığında daha doğru sonuçlar alınabilir.\n"
   ]
  }
 ],
 "metadata": {
  "kernelspec": {
   "display_name": "Python 3 (ipykernel)",
   "language": "python",
   "name": "python3"
  },
  "language_info": {
   "codemirror_mode": {
    "name": "ipython",
    "version": 3
   },
   "file_extension": ".py",
   "mimetype": "text/x-python",
   "name": "python",
   "nbconvert_exporter": "python",
   "pygments_lexer": "ipython3",
   "version": "3.12.9"
  }
 },
 "nbformat": 4,
 "nbformat_minor": 5
}
